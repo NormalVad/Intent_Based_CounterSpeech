{
 "cells": [
  {
   "cell_type": "code",
   "execution_count": 19,
   "metadata": {},
   "outputs": [],
   "source": [
    "import pandas as pd\n",
    "import numpy as np"
   ]
  },
  {
   "cell_type": "code",
   "execution_count": 20,
   "metadata": {},
   "outputs": [],
   "source": [
    "hsmr1 = pd.read_csv('hs_master_rank1_scale3.csv')"
   ]
  },
  {
   "cell_type": "code",
   "execution_count": 21,
   "metadata": {},
   "outputs": [
    {
     "data": {
      "text/html": [
       "<div>\n",
       "<style scoped>\n",
       "    .dataframe tbody tr th:only-of-type {\n",
       "        vertical-align: middle;\n",
       "    }\n",
       "\n",
       "    .dataframe tbody tr th {\n",
       "        vertical-align: top;\n",
       "    }\n",
       "\n",
       "    .dataframe thead th {\n",
       "        text-align: right;\n",
       "    }\n",
       "</style>\n",
       "<table border=\"1\" class=\"dataframe\">\n",
       "  <thead>\n",
       "    <tr style=\"text-align: right;\">\n",
       "      <th></th>\n",
       "      <th>Unnamed: 0</th>\n",
       "      <th>HateSpeech</th>\n",
       "      <th>BestCS</th>\n",
       "      <th>BestIntent</th>\n",
       "      <th>E</th>\n",
       "      <th>R</th>\n",
       "      <th>A</th>\n",
       "      <th>C</th>\n",
       "      <th>L</th>\n",
       "      <th>CSCount</th>\n",
       "      <th>Target</th>\n",
       "    </tr>\n",
       "  </thead>\n",
       "  <tbody>\n",
       "    <tr>\n",
       "      <th>0</th>\n",
       "      <td>0</td>\n",
       "      <td>Women must not have equal rights, they are mer...</td>\n",
       "      <td>Equality of rights is the most fundamental hum...</td>\n",
       "      <td>Informative</td>\n",
       "      <td>3.0</td>\n",
       "      <td>2.0</td>\n",
       "      <td>1.0</td>\n",
       "      <td>2.0</td>\n",
       "      <td>2.0</td>\n",
       "      <td>1</td>\n",
       "      <td>WOMEN</td>\n",
       "    </tr>\n",
       "    <tr>\n",
       "      <th>1</th>\n",
       "      <td>1</td>\n",
       "      <td>Children with Down Syndrome should be isolated...</td>\n",
       "      <td>Children with Down Syndrome would not feel dif...</td>\n",
       "      <td>Informative</td>\n",
       "      <td>3.0</td>\n",
       "      <td>2.0</td>\n",
       "      <td>1.0</td>\n",
       "      <td>2.0</td>\n",
       "      <td>2.0</td>\n",
       "      <td>2</td>\n",
       "      <td>DISABLED</td>\n",
       "    </tr>\n",
       "    <tr>\n",
       "      <th>2</th>\n",
       "      <td>2</td>\n",
       "      <td>You are a Muslim and I hate everything about you.</td>\n",
       "      <td>It is no secret now that you might not have an...</td>\n",
       "      <td>Informative</td>\n",
       "      <td>2.0</td>\n",
       "      <td>2.0</td>\n",
       "      <td>3.0</td>\n",
       "      <td>2.0</td>\n",
       "      <td>2.0</td>\n",
       "      <td>1</td>\n",
       "      <td>MUSLIMS</td>\n",
       "    </tr>\n",
       "    <tr>\n",
       "      <th>3</th>\n",
       "      <td>3</td>\n",
       "      <td>Allowing gays to donate blood compromises pati...</td>\n",
       "      <td>Many countries use a deferral window of 1 year...</td>\n",
       "      <td>Informative</td>\n",
       "      <td>2.0</td>\n",
       "      <td>2.0</td>\n",
       "      <td>2.0</td>\n",
       "      <td>2.0</td>\n",
       "      <td>1.0</td>\n",
       "      <td>3</td>\n",
       "      <td>LGBT+</td>\n",
       "    </tr>\n",
       "    <tr>\n",
       "      <th>4</th>\n",
       "      <td>4</td>\n",
       "      <td>A woman is an emotional child, she is incapabl...</td>\n",
       "      <td>Feminism is a movement for equality, and for w...</td>\n",
       "      <td>Informative</td>\n",
       "      <td>3.0</td>\n",
       "      <td>2.0</td>\n",
       "      <td>1.0</td>\n",
       "      <td>1.0</td>\n",
       "      <td>2.0</td>\n",
       "      <td>4</td>\n",
       "      <td>WOMEN</td>\n",
       "    </tr>\n",
       "  </tbody>\n",
       "</table>\n",
       "</div>"
      ],
      "text/plain": [
       "   Unnamed: 0                                         HateSpeech  \\\n",
       "0           0  Women must not have equal rights, they are mer...   \n",
       "1           1  Children with Down Syndrome should be isolated...   \n",
       "2           2  You are a Muslim and I hate everything about you.   \n",
       "3           3  Allowing gays to donate blood compromises pati...   \n",
       "4           4  A woman is an emotional child, she is incapabl...   \n",
       "\n",
       "                                              BestCS   BestIntent    E    R  \\\n",
       "0  Equality of rights is the most fundamental hum...  Informative  3.0  2.0   \n",
       "1  Children with Down Syndrome would not feel dif...  Informative  3.0  2.0   \n",
       "2  It is no secret now that you might not have an...  Informative  2.0  2.0   \n",
       "3  Many countries use a deferral window of 1 year...  Informative  2.0  2.0   \n",
       "4  Feminism is a movement for equality, and for w...  Informative  3.0  2.0   \n",
       "\n",
       "     A    C    L  CSCount    Target  \n",
       "0  1.0  2.0  2.0        1     WOMEN  \n",
       "1  1.0  2.0  2.0        2  DISABLED  \n",
       "2  3.0  2.0  2.0        1   MUSLIMS  \n",
       "3  2.0  2.0  1.0        3     LGBT+  \n",
       "4  1.0  1.0  2.0        4     WOMEN  "
      ]
     },
     "execution_count": 21,
     "metadata": {},
     "output_type": "execute_result"
    }
   ],
   "source": [
    "hsmr1.head()"
   ]
  },
  {
   "cell_type": "code",
   "execution_count": 22,
   "metadata": {},
   "outputs": [
    {
     "data": {
      "text/plain": [
       "Informative    2070\n",
       "Questioning     686\n",
       "Positive        436\n",
       "Denouncing      291\n",
       "Name: BestIntent, dtype: int64"
      ]
     },
     "execution_count": 22,
     "metadata": {},
     "output_type": "execute_result"
    }
   ],
   "source": [
    "hsmr1['BestIntent'].value_counts()"
   ]
  },
  {
   "cell_type": "code",
   "execution_count": 23,
   "metadata": {},
   "outputs": [
    {
     "data": {
      "text/plain": [
       "3.0    2713\n",
       "2.0     585\n",
       "1.0     185\n",
       "Name: E, dtype: int64"
      ]
     },
     "execution_count": 23,
     "metadata": {},
     "output_type": "execute_result"
    }
   ],
   "source": [
    "hsmr1['E'].value_counts()"
   ]
  },
  {
   "cell_type": "code",
   "execution_count": 24,
   "metadata": {},
   "outputs": [
    {
     "data": {
      "text/plain": [
       "2.0    3426\n",
       "1.0      57\n",
       "Name: R, dtype: int64"
      ]
     },
     "execution_count": 24,
     "metadata": {},
     "output_type": "execute_result"
    }
   ],
   "source": [
    "hsmr1['R'].value_counts()"
   ]
  },
  {
   "cell_type": "code",
   "execution_count": 25,
   "metadata": {},
   "outputs": [
    {
     "data": {
      "text/plain": [
       "2.0    2300\n",
       "1.0    1058\n",
       "3.0     125\n",
       "Name: A, dtype: int64"
      ]
     },
     "execution_count": 25,
     "metadata": {},
     "output_type": "execute_result"
    }
   ],
   "source": [
    "hsmr1['A'].value_counts()"
   ]
  },
  {
   "cell_type": "code",
   "execution_count": 26,
   "metadata": {},
   "outputs": [
    {
     "data": {
      "text/plain": [
       "2.0    2745\n",
       "1.0     703\n",
       "3.0      35\n",
       "Name: C, dtype: int64"
      ]
     },
     "execution_count": 26,
     "metadata": {},
     "output_type": "execute_result"
    }
   ],
   "source": [
    "hsmr1['C'].value_counts()"
   ]
  },
  {
   "cell_type": "code",
   "execution_count": 27,
   "metadata": {},
   "outputs": [
    {
     "data": {
      "text/plain": [
       "2.0     2845\n",
       "1.0      444\n",
       "3.0      193\n",
       "22.0       1\n",
       "Name: L, dtype: int64"
      ]
     },
     "execution_count": 27,
     "metadata": {},
     "output_type": "execute_result"
    }
   ],
   "source": [
    "hsmr1['L'].value_counts()"
   ]
  },
  {
   "cell_type": "code",
   "execution_count": 28,
   "metadata": {},
   "outputs": [
    {
     "data": {
      "text/plain": [
       "1     2039\n",
       "2      771\n",
       "4      380\n",
       "3      268\n",
       "0       27\n",
       "8        8\n",
       "7        4\n",
       "5        4\n",
       "6        3\n",
       "16       2\n",
       "12       1\n",
       "14       1\n",
       "10       1\n",
       "11       1\n",
       "Name: CSCount, dtype: int64"
      ]
     },
     "execution_count": 28,
     "metadata": {},
     "output_type": "execute_result"
    }
   ],
   "source": [
    "hsmr1['CSCount'].value_counts()"
   ]
  },
  {
   "cell_type": "code",
   "execution_count": 29,
   "metadata": {},
   "outputs": [],
   "source": [
    "hsmr1.dropna(inplace=True)"
   ]
  },
  {
   "cell_type": "code",
   "execution_count": 30,
   "metadata": {},
   "outputs": [
    {
     "data": {
      "text/plain": [
       "3483"
      ]
     },
     "execution_count": 30,
     "metadata": {},
     "output_type": "execute_result"
    }
   ],
   "source": [
    "len(hsmr1)"
   ]
  },
  {
   "cell_type": "code",
   "execution_count": 31,
   "metadata": {},
   "outputs": [
    {
     "data": {
      "text/plain": [
       "1     2039\n",
       "2      771\n",
       "4      380\n",
       "3      268\n",
       "8        8\n",
       "7        4\n",
       "5        4\n",
       "6        3\n",
       "16       2\n",
       "12       1\n",
       "14       1\n",
       "10       1\n",
       "11       1\n",
       "Name: CSCount, dtype: int64"
      ]
     },
     "execution_count": 31,
     "metadata": {},
     "output_type": "execute_result"
    }
   ],
   "source": [
    "hsmr1['CSCount'].value_counts()"
   ]
  },
  {
   "cell_type": "code",
   "execution_count": 32,
   "metadata": {},
   "outputs": [
    {
     "data": {
      "text/plain": [
       "3.0    2713\n",
       "2.0     585\n",
       "1.0     185\n",
       "Name: E, dtype: int64"
      ]
     },
     "execution_count": 32,
     "metadata": {},
     "output_type": "execute_result"
    }
   ],
   "source": [
    "hsmr1['E'].value_counts()"
   ]
  },
  {
   "cell_type": "code",
   "execution_count": 33,
   "metadata": {},
   "outputs": [],
   "source": [
    "hsmr1.drop(hsmr1[(hsmr1['E']==1)].index, inplace=True)"
   ]
  },
  {
   "cell_type": "code",
   "execution_count": 34,
   "metadata": {},
   "outputs": [
    {
     "data": {
      "text/plain": [
       "3.0    2713\n",
       "2.0     585\n",
       "Name: E, dtype: int64"
      ]
     },
     "execution_count": 34,
     "metadata": {},
     "output_type": "execute_result"
    }
   ],
   "source": [
    "hsmr1['E'].value_counts()"
   ]
  },
  {
   "cell_type": "code",
   "execution_count": 35,
   "metadata": {},
   "outputs": [
    {
     "data": {
      "text/plain": [
       "3298"
      ]
     },
     "execution_count": 35,
     "metadata": {},
     "output_type": "execute_result"
    }
   ],
   "source": [
    "len(hsmr1)"
   ]
  },
  {
   "cell_type": "code",
   "execution_count": 36,
   "metadata": {},
   "outputs": [],
   "source": [
    "hsmr1.drop('Unnamed: 0', axis=1, inplace=True)\n",
    "hsmr1.to_csv('hs_cleaned_rank1_scale3.csv')"
   ]
  }
 ],
 "metadata": {
  "kernelspec": {
   "display_name": "Python 3",
   "language": "python",
   "name": "python3"
  },
  "language_info": {
   "codemirror_mode": {
    "name": "ipython",
    "version": 3
   },
   "file_extension": ".py",
   "mimetype": "text/x-python",
   "name": "python",
   "nbconvert_exporter": "python",
   "pygments_lexer": "ipython3",
   "version": "3.10.2"
  },
  "orig_nbformat": 4
 },
 "nbformat": 4,
 "nbformat_minor": 2
}
